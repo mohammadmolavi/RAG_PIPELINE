{
 "cells": [
  {
   "cell_type": "markdown",
   "id": "cdf9752d-0d93-486d-8435-db96c1edb7c3",
   "metadata": {},
   "source": [
    "# Data Processing\n"
   ]
  },
  {
   "cell_type": "markdown",
   "id": "5d57f617-63bf-4351-ad91-7ac0a66ad611",
   "metadata": {},
   "source": [
    "importing libraries"
   ]
  },
  {
   "cell_type": "code",
   "execution_count": 154,
   "id": "d3a970f8-dc6c-4908-8674-6be95131afd2",
   "metadata": {},
   "outputs": [],
   "source": [
    "from docx import Document"
   ]
  },
  {
   "cell_type": "markdown",
   "id": "43d29ff5-249f-4b29-82ee-fbbc97f6a6e0",
   "metadata": {},
   "source": [
    "## Extracting data\n"
   ]
  },
  {
   "cell_type": "code",
   "execution_count": 122,
   "id": "91441b82-17d4-4006-bc82-d0362e9cb217",
   "metadata": {},
   "outputs": [],
   "source": [
    "file_path=\"dataset.docx\""
   ]
  },
  {
   "cell_type": "code",
   "execution_count": 152,
   "id": "c039912c-4d44-4919-8dce-8498d34b5a2a",
   "metadata": {},
   "outputs": [],
   "source": [
    "def extract_data(doc_path):\n",
    "    doc = Document(doc_path)\n",
    "    current_headings = []  \n",
    "    results = []\n",
    "    for para in doc.paragraphs:\n",
    "        style_name = para.style.name\n",
    "        if style_name.startswith('Heading 1'):\n",
    "            current_headings = [para.text.strip()]\n",
    "        elif style_name.startswith('Heading 2'):\n",
    "            if len(current_headings) >= 1:\n",
    "                if len(current_headings) == 1:\n",
    "                    current_headings.append(para.text.strip())\n",
    "                else:\n",
    "                    current_headings[1] = para.text.strip()\n",
    "            else:\n",
    "                current_headings = [None, para.text.strip()]\n",
    "        else:\n",
    "            if para.text.strip():\n",
    "                metadata = {\n",
    "                    \"headings\": current_headings.copy()  \n",
    "                }\n",
    "                results.append({\n",
    "                    \"text\": para.text.strip(),\n",
    "                    \"metadata\": metadata\n",
    "                })\n",
    "    return results\n"
   ]
  },
  {
   "cell_type": "code",
   "execution_count": 153,
   "id": "e0b0b0d9-9c83-4979-ba2d-c5effd1e4913",
   "metadata": {},
   "outputs": [],
   "source": [
    "sections = extract_data(file_path)"
   ]
  },
  {
   "cell_type": "code",
   "execution_count": null,
   "id": "7a5dc0e8-ab94-4c09-b5e7-ddbd1efd5080",
   "metadata": {},
   "outputs": [],
   "source": []
  }
 ],
 "metadata": {
  "kernelspec": {
   "display_name": "Python (.env - RAG)",
   "language": "python",
   "name": "rag-env"
  },
  "language_info": {
   "codemirror_mode": {
    "name": "ipython",
    "version": 3
   },
   "file_extension": ".py",
   "mimetype": "text/x-python",
   "name": "python",
   "nbconvert_exporter": "python",
   "pygments_lexer": "ipython3",
   "version": "3.12.0"
  }
 },
 "nbformat": 4,
 "nbformat_minor": 5
}
