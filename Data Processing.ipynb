{
 "cells": [
  {
   "cell_type": "markdown",
   "id": "cdf9752d-0d93-486d-8435-db96c1edb7c3",
   "metadata": {},
   "source": [
    "# Data Processing\n"
   ]
  },
  {
   "cell_type": "markdown",
   "id": "5d57f617-63bf-4351-ad91-7ac0a66ad611",
   "metadata": {},
   "source": [
    "importing libraries"
   ]
  },
  {
   "cell_type": "code",
   "execution_count": 94,
   "id": "d3a970f8-dc6c-4908-8674-6be95131afd2",
   "metadata": {},
   "outputs": [],
   "source": [
    "from docx import Document\n",
    "import re\n",
    "import unicodedata\n",
    "import tiktoken"
   ]
  },
  {
   "cell_type": "code",
   "execution_count": 95,
   "id": "91441b82-17d4-4006-bc82-d0362e9cb217",
   "metadata": {},
   "outputs": [],
   "source": [
    "file_path=\"dataset.docx\""
   ]
  },
  {
   "cell_type": "code",
   "execution_count": 96,
   "id": "c039912c-4d44-4919-8dce-8498d34b5a2a",
   "metadata": {},
   "outputs": [],
   "source": [
    "def extract_data(doc_path):\n",
    "    doc = Document(doc_path)\n",
    "    current_headings = []  \n",
    "    results = []\n",
    "    for para in doc.paragraphs:\n",
    "        style_name = para.style.name\n",
    "        if style_name.startswith('Heading 1'):\n",
    "            current_headings = [para.text.strip()]\n",
    "        elif style_name.startswith('Heading 2'):\n",
    "            if len(current_headings) >= 1:\n",
    "                if len(current_headings) == 1:\n",
    "                    current_headings.append(para.text.strip())\n",
    "                else:\n",
    "                    current_headings[1] = para.text.strip()\n",
    "            else:\n",
    "                current_headings = [None, para.text.strip()]\n",
    "        else:\n",
    "            if para.text.strip():\n",
    "                metadata = {\n",
    "                    \"headings\": current_headings.copy()  \n",
    "                }\n",
    "                results.append({\n",
    "                    \"text\": para.text.strip(),\n",
    "                    \"metadata\": metadata\n",
    "                })\n",
    "    return results\n"
   ]
  },
  {
   "cell_type": "code",
   "execution_count": 97,
   "id": "e0b0b0d9-9c83-4979-ba2d-c5effd1e4913",
   "metadata": {},
   "outputs": [],
   "source": [
    "sections = extract_data(file_path)"
   ]
  },
  {
   "cell_type": "markdown",
   "id": "dd5e1021-7673-40af-a025-ee9bb41ef8e0",
   "metadata": {},
   "source": [
    "## preprocessing"
   ]
  },
  {
   "cell_type": "markdown",
   "id": "fecad398-60db-4134-bd21-c5e46de9dde0",
   "metadata": {},
   "source": [
    "### 1. normalization"
   ]
  },
  {
   "cell_type": "code",
   "execution_count": 98,
   "id": "1b133b4c-b2a1-4631-977c-edee3920d175",
   "metadata": {},
   "outputs": [],
   "source": [
    "def normalize_text(text):\n",
    "    text = re.sub(r'\\s+', ' ', text)\n",
    "    text = unicodedata.normalize(\"NFKC\", text)\n",
    "    text = ''.join(c for c in text if c.isprintable())\n",
    "    return text.strip()"
   ]
  },
  {
   "cell_type": "markdown",
   "id": "f8c579ea-085c-4c4a-b2d6-fa70ab44d7ad",
   "metadata": {},
   "source": [
    "### 2. clean punctuation"
   ]
  },
  {
   "cell_type": "code",
   "execution_count": 99,
   "id": "493a0b1b-3442-487d-a928-784b573563b1",
   "metadata": {},
   "outputs": [],
   "source": [
    "def clean_punctuation(text):\n",
    "    text = re.sub(r'[“”«»]', '\"', text)\n",
    "    text = re.sub(r\"[’‘]\", \"'\", text)\n",
    "    text = re.sub(r\"[–—]\", \"-\", text)\n",
    "    return text\n"
   ]
  },
  {
   "cell_type": "markdown",
   "id": "16a1027b-09b6-434b-9894-67d04dcb3c53",
   "metadata": {},
   "source": [
    "### 3. strip noise"
   ]
  },
  {
   "cell_type": "code",
   "execution_count": 100,
   "id": "324f449a-d1f1-480a-a26e-85779ddc383d",
   "metadata": {},
   "outputs": [],
   "source": [
    "def remove_noise(text):\n",
    "    text = re.sub(r\"http\\S+|www\\S+|https\\S+\", '', text)\n",
    "    text = re.sub(r'\\S+@\\S+', '', text)\n",
    "    text = re.sub(r'\\d{5,}', '', text)\n",
    "    return text\n"
   ]
  },
  {
   "cell_type": "markdown",
   "id": "7532523f-4833-4bcf-bf0f-7d45afd85548",
   "metadata": {},
   "source": [
    "### 4. paraghraphs"
   ]
  },
  {
   "cell_type": "code",
   "execution_count": 101,
   "id": "7d072955-e5c4-4b11-acf0-fa8efebbea88",
   "metadata": {},
   "outputs": [],
   "source": [
    "def split_paragraphs(text):\n",
    "    return [para.strip() for para in text.split('\\n') if para.strip()]"
   ]
  },
  {
   "cell_type": "code",
   "execution_count": 102,
   "id": "1125ecf2-d9cc-4bb7-90ca-ab56e41eee1b",
   "metadata": {},
   "outputs": [],
   "source": [
    "def preprocess_data(raw_text):\n",
    "    text = normalize_text(raw_text)\n",
    "    text = clean_punctuation(text)\n",
    "    paragraphs = split_paragraphs(text)\n",
    "    return paragraphs\n"
   ]
  },
  {
   "cell_type": "code",
   "execution_count": 103,
   "id": "3e419f32-fd9e-4d94-b10d-eac6ab0ce3b3",
   "metadata": {},
   "outputs": [],
   "source": [
    "for sec in sections:\n",
    "    sec['text']=preprocess_data(sec['text'])"
   ]
  },
  {
   "cell_type": "markdown",
   "id": "33213279-b40b-41ee-bee8-2f1eeff85b64",
   "metadata": {},
   "source": [
    "## tokenizer"
   ]
  },
  {
   "cell_type": "code",
   "execution_count": 115,
   "id": "a8144fef-c3e2-4f09-b16c-6d9df8cc7cf5",
   "metadata": {},
   "outputs": [],
   "source": [
    "def tokenize_chunk(text, metadata, tokenizer_name=\"gpt2\", chunk_size=300, overlap=0.15):\n",
    "    enc = tiktoken.get_encoding(tokenizer_name)\n",
    "    tokens = enc.encode(text[0])\n",
    "\n",
    "    step = int(chunk_size * (1 - overlap))\n",
    "    dataset = []\n",
    "\n",
    "    for start in range(0, len(tokens), step):\n",
    "        end = start + chunk_size\n",
    "        chunk_tokens = tokens[start:end]\n",
    "        chunk_text = enc.decode(chunk_tokens)\n",
    "        \n",
    "        chunk_entry = {\n",
    "            \"text\": chunk_text,\n",
    "            \"metadata\": metadata.copy()\n",
    "        }\n",
    "        dataset.append(chunk_entry)\n",
    "\n",
    "        if end >= len(tokens):\n",
    "            break\n",
    "\n",
    "    return dataset\n"
   ]
  },
  {
   "cell_type": "markdown",
   "id": "3ff999ad-6293-4820-9e05-d8c650e7bea1",
   "metadata": {},
   "source": [
    "## chunking"
   ]
  },
  {
   "cell_type": "code",
   "execution_count": 117,
   "id": "c11c8805-3603-44b5-bca3-eecce2eb85d4",
   "metadata": {},
   "outputs": [],
   "source": [
    "dataset=[]"
   ]
  },
  {
   "cell_type": "code",
   "execution_count": 118,
   "id": "7ff3bc23-2860-4ae5-a9a9-5e7c83d1d459",
   "metadata": {},
   "outputs": [],
   "source": [
    "for section in sections:\n",
    "    dataset.append(process_and_chunk_data(section['text'],section['metadata']))"
   ]
  },
  {
   "cell_type": "code",
   "execution_count": 119,
   "id": "dc2f8f5c-30cd-4245-9876-caf7d449742c",
   "metadata": {},
   "outputs": [
    {
     "data": {
      "text/plain": [
       "[[{'text': 'The French are, paradoxically, strongly conscious of belonging to a single nation, but they hardly constitute a unified ethnic group by any scientific gauge. Before the official discovery of the Americas at the end of the 15th century, France, located on the western extremity of the Old World, was regarded for centuries by Europeans as being near the edge of the known world. Generations of different migrants traveling by way of the Mediterranean from the Middle East and Africa and through Europe from Central Asia and the Nordic lands settled permanently in France, forming a variegated grouping, almost like a series of geologic strata, since they were unable to migrate any farther. Perhaps the oldest reflection of these migrations is furnished by the Basque people, who live in an isolated area west of the Pyrenees in both Spain and France, who speak a language unrelated to other European languages, and whose origin remains unclear. The Celtic tribes, known to the Romans as Gauls, spread from central Europe in the period 500 bce-500 ce to provide France with a major component of its population, especially in the centre and west. At the fall of the Roman Empire, there was a powerful penetration of Germanic (Teutonic) peoples, especially in northern and eastern France. The incursion of the Norsemen (Vikings) brought further Germanic influence. In addition to these many migrations, France was, over the centuries, the field of numerous battles and of prolonged occupations before becoming, in',\n",
       "   'metadata': {'headings': ['People of France', 'Ethnic groups']}},\n",
       "  {'text': ' incursion of the Norsemen (Vikings) brought further Germanic influence. In addition to these many migrations, France was, over the centuries, the field of numerous battles and of prolonged occupations before becoming, in the 19th and especially in the 20th century, the prime recipient of foreign immigration into Europe, adding still other mixtures to the ethnic melting pot.',\n",
       "   'metadata': {'headings': ['People of France', 'Ethnic groups']}}],\n",
       " [{'text': 'French is the national language, spoken and taught everywhere. Brogues and dialects are widespread in rural areas, however, and many people tend to conserve their regional linguistic customs either through tradition or through a voluntary and deliberate return to a specific regional dialect. This tendency is strongest in the frontier areas of France. In the eastern and northern part of the country, Alsatian and Flemish (Dutch) are Germanic languages; in the south, Occitan (Provençal or Languedoc), Corsican, and Catalan show the influence of Latin. Breton is a Celtic language related to languages spoken in some western parts of the British Isles (notably Wales), and Basque is a language isolate. Following the introduction of universal primary education during the Third Republic in 1872, the use of regional languages was rigorously repressed in the interest of national unity, and pupils using them were punished. More recently, in reaction to the rise in regional sentiment, these languages have been introduced in a number of schools and universities, primarily because some of them, such as Occitan, Basque, and Breton, have maintained a literary tradition. Recent immigration has introduced various non-European languages, notably Arabic.',\n",
       "   'metadata': {'headings': ['People of France', 'Languages']}}],\n",
       " [{'text': \"About three-fifths of the French people belong to the Roman Catholic Church. Only a minority, however, regularly participate in religious worship; practice is greatest among the middle classes. The northwest (Brittany-Vendée), the east (Lorraine, Vosges, Alsace, Jura, Lyonnais, and the northern Alps), the north (Flanders), the Basque Country, and the region south of the Massif Central have a higher percentage of practicing Roman Catholics than the rest of the country. Recruitment of priests has become more difficult, even though the church, historically autonomous, is very progressive and ecumenical. Reflecting the presence of immigrants from North Africa, Algeria, and Morocco, France has one of Europe's largest Muslim populations: an estimated 5,000,000 Muslims, a sizable percentage of them living in and around Marseille in southeastern France, as well as in Paris and Lyon. Protestants, who number 700,000, belong to several different denominations. They are numerous in Alsace, in the northern Jura, in the southeastern Massif Central, and in the central Atlantic region. There are more than 700,000 adherents of Judaism, concentrated in Greater Paris, Marseille, and Alsace and the large eastern towns. In addition to the religious groups, there also are several societies of freethinkers, of which the most famous is the French Masonry. Large numbers, however, especially among the\",\n",
       "   'metadata': {'headings': ['People of France', 'Religion of France']}},\n",
       "  {'text': \"sace and the large eastern towns. In addition to the religious groups, there also are several societies of freethinkers, of which the most famous is the French Masonry. Large numbers, however, especially among the working classes and young population, profess no religious belief. In the early 21st century the government approved a number of measures that reflected both France's dedication to being a secular state, a principle known as laïcité, as well as the ambivalence and, in some cases, hostility felt by some French toward the country's large Muslim population. In 2004 the government banned Muslim head scarves and other religious symbols in state schools. Additional controversial legislation passed in 2010 prohibited face-concealing garments-i.e., veils that fully covered a woman's face-in public places.\",\n",
       "   'metadata': {'headings': ['People of France', 'Religion of France']}}],\n",
       " [{'text': 'Rural landscape and settlement',\n",
       "   'metadata': {'headings': ['Settlement patterns']}}],\n",
       " [{'text': 'Centuries of human adaptation of the various environments of France have produced varied patterns of rural landscape. Scholars have traditionally made an initial contrast between areas of enclosed land (bocage), usually associated with zones of high rainfall and heavy soils, and areas of open-field land (campagne), generally associated with level and well-drained plains and plateaus. Two other patterns have evolved in the Mediterranean region and in the mountains.',\n",
       "   'metadata': {'headings': ['Settlement patterns']}}],\n",
       " [{'text': 'In its classic form, bocage is found in Brittany, where small fields are surrounded by drainage ditches and high earthen banks, from which grow impenetrable hedges arching over narrow sunken lanes. Similarly enclosed land is found elsewhere, however, notably on the northern, western, and southern fringes of the Paris Basin, such as in Normandy, as well as in the western and northern parts of the Massif Central, parts of Aquitaine, and the Pyrenean region. At higher levels hedges may be replaced by stone walls. Settlement mostly takes the form of hamlets and isolated farms.',\n",
       "   'metadata': {'headings': ['Settlement patterns', 'Bocage']}}],\n",
       " [{'text': 'The greatest extent of open-field land is found in the Paris Basin and in northern and eastern France, but there are pockets of it elsewhere. The landscape typically lacks hedges or fences; instead, the bewildering pattern of small strips and blocks of land is defined by small boundary stones. The land of one farmer may be dispersed in parcels scattered over a wide area. The land is predominantly arable, and the farmsteads are traditionally grouped into villages, which may be irregularly clustered or, as in Lorraine, linear in form.',\n",
       "   'metadata': {'headings': ['Settlement patterns', 'Open-field']}}],\n",
       " [{'text': 'The generally block-shaped Mediterranean lowland parcels normally are not enclosed or are enclosed only by rough stone banks. However, in areas where delicate crops would be exposed to wind damage, there are screens of willows and tall reeds. Hillsides are frequently terraced, although much of this land type has been abandoned except in areas of intensive cultivation, such as the flower-growing region around Grasse. A very large farmhouse built on three floors is characteristic of wine-growing and sheep-raising regions, such as Provence. Rural population was formerly often clustered at high elevations, both for defense and in order to be above the malarial plains. In modern times there has been a move to more convenient lowland locations.',\n",
       "   'metadata': {'headings': ['Settlement patterns', 'Mediterranean']}}],\n",
       " [{'text': 'In the high mountains and especially in the Alps, there is the contrast between the adrets, the sunny and cultivated valley slopes, and the ubacs, the cold and humid slopes covered with forests. The variety of vegetation on the slopes of the mountains is remarkable. Cultivated fields and grasslands are found in the depths of the valleys, followed in ascending order by orchards on the first sunny embankments, then forests, Alpine pastures, bare rocks, and, finally, permanent snow. A unique aspect of the mountain environment is that Alpine villages of the lower valley sides were often combined with chalets (burons in the Massif Central), temporary dwellings used by those tending flocks on summer pastures above the tree line.',\n",
       "   'metadata': {'headings': ['Settlement patterns', 'Mountain']}}],\n",
       " [{'text': 'After World War II the French government instituted a program of consolidation, whereby the scattered parcels of individual farmers were grouped into larger blocks that would accommodate heavier, mechanized cultivation. Initially progress was greatest in the open-field areas, particularly the Paris Basin, where there were few physical obstacles to the process. Subsequent extension to bocage areas had more severe consequences for landscape values and ecology, as hedges, sunken lanes, and ponds disappeared in favour of a new open landscape. At the same time, the vast numbers of people abandoning agricultural pursuits enormously changed the nature of rural settlement. Particularly in the more attractive areas, abandoned farms were purchased as second homes or for retirement. Where alternative employment was available, rural people stayed and became commuters, transforming barns and stables for other uses, such as garages. On the fringes of the expanding city regions, new houses and housing subdivisions for urban commuters were built in the villages, markedly changing their character.',\n",
       "   'metadata': {'headings': ['Settlement patterns',\n",
       "     'Postwar transformation']}}],\n",
       " [{'text': 'The primacy of Paris as the predominant urban centre of France is well known. After World War II the French government had an ambivalent attitude toward the development of the urban structure. On the one hand there was the desire to see Paris emerge as the effective capital of Europe, and on the other there was the policy of creating \"métropoles d\\'equilibre,\" through which cities such as Lille, Bordeaux, and Marseille would become growth poles of regional development. Even more evident was the unplanned urbanization of small and medium-size towns related to spontaneous industrial decentralization from Paris, such as that along the Loire valley, or to retirement migration, such as that along the coastlands of southern France.',\n",
       "   'metadata': {'headings': ['Settlement patterns', 'Urban settlement']}}],\n",
       " [{'text': \"In 1801 France was the most populous nation in Europe, containing about one-sixth of the continent's inhabitants. By 1936 the French population had increased by 50 percent, but in the same period the number of people in Italy and Germany had nearly trebled, and in the United Kingdom and the Netherlands the population had nearly quadrupled. The marked difference in population growth between France and some of its neighbours up to the 1940s was attributed to a falling birth rate. At the same time, the mortality rate in France began its decline somewhat later than in other advanced European countries, not falling until the close of the 19th century. The birth rate was particularly affected by the practice of French peasants who deliberately limited their families in order to reduce the effect of a Napoleonic law that required the splitting of the family holdings among all heirs. Other factors may have included the rise of bourgeois individualism following the French Revolution of 1789, the decline of Roman Catholic observance (especially among the political left), and the lack of economic opportunity in the interwar years. Population growth was, of course, adversely affected by wars, including the wars of the Revolution; the wars of the First Empire; the Franco-German War (1870-71); World War I (1914-18), which cost France more than 1,500,000 lives; and World War II (1939-45), which reduced the population by 600,000. The deficit in national growth was so drastic by 1938\",\n",
       "   'metadata': {'headings': ['Demographic trends', 'Population history']}},\n",
       "  {'text': '14-18), which cost France more than 1,500,000 lives; and World War II (1939-45), which reduced the population by 600,000. The deficit in national growth was so drastic by 1938 that France began to give monetary and other material benefits to families with children. The policy appears to have been effective, because a rise in the birth rate occurred even during the difficult years of Nazi occupation and Vichy France, culminating in the postwar baby boom years, when soldiers and prisoners returned to a climate of economic optimism. The relative youth and high fertility of immigrants also contributed to the upsurge in the birth rate, which was coupled with a decline in mortality rates, attributable to improved public health facilities and social welfare programs. In the second half of the 20th century, the high birth rate slowed, and about 1974 it fell into a sharp decline, eventually reaching a point insufficient for the long-term maintenance of the population. Since midcentury, because of a corresponding decline in the death rate, the rate of natural increase (balance of births against deaths) has remained positive, though in decline. By the early 21st century, France had an average population increase of roughly 300,000 people each year. These changes were not exceptional to France; the same postwar pattern was largely paralleled in neighbouring countries. A number of factors combined to reduce the birth rate, among them the introduction of the contraceptive pill and the new preference for smaller families.',\n",
       "   'metadata': {'headings': ['Demographic trends', 'Population history']}}],\n",
       " [{'text': \"Unlike many of its neighbours, France has never been a major source of international migrants. In the 17th century, because of religious persecution, France lost more than 400,000 Huguenot refugees-often highly skilled-mainly to Prussia, England, Holland, and America. The same century saw the beginning of emigration; relatively small numbers of emigrants settled at first in North America, notably in eastern Canada (Quebec) and in Louisiana, in certain parts of Latin America that are still départements of France (Martinique, Guadeloupe, and French Guiana), and later in various countries of Africa and Asia that were parts of France's colonial domain. Since decolonialization, whether forced or voluntary, many have returned to France, but others have remained overseas, either in business or in programs of technical and cultural cooperation in most of the former French territories, notably in Africa. Small numbers of French, especially from Brittany and Normandy, continue to relocate to Canada, and a number of Basques go to Argentina.\",\n",
       "   'metadata': {'headings': ['Demographic trends', 'Emigration']}}]]"
      ]
     },
     "execution_count": 119,
     "metadata": {},
     "output_type": "execute_result"
    }
   ],
   "source": [
    "dataset"
   ]
  },
  {
   "cell_type": "code",
   "execution_count": null,
   "id": "5d3d5b90-8f80-4147-b62d-3a16cedccad4",
   "metadata": {},
   "outputs": [],
   "source": []
  }
 ],
 "metadata": {
  "kernelspec": {
   "display_name": "Python (.env - RAG)",
   "language": "python",
   "name": "rag-env"
  },
  "language_info": {
   "codemirror_mode": {
    "name": "ipython",
    "version": 3
   },
   "file_extension": ".py",
   "mimetype": "text/x-python",
   "name": "python",
   "nbconvert_exporter": "python",
   "pygments_lexer": "ipython3",
   "version": "3.12.0"
  }
 },
 "nbformat": 4,
 "nbformat_minor": 5
}
