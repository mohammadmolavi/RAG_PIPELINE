{
 "cells": [
  {
   "cell_type": "markdown",
   "id": "cdf9752d-0d93-486d-8435-db96c1edb7c3",
   "metadata": {},
   "source": [
    "# Data Processing\n"
   ]
  },
  {
   "cell_type": "markdown",
   "id": "5d57f617-63bf-4351-ad91-7ac0a66ad611",
   "metadata": {},
   "source": [
    "importing libraries"
   ]
  },
  {
   "cell_type": "code",
   "execution_count": 18,
   "id": "d3a970f8-dc6c-4908-8674-6be95131afd2",
   "metadata": {},
   "outputs": [
    {
     "name": "stderr",
     "output_type": "stream",
     "text": [
      "E:\\project\\RAG_pipline\\RAG_PIPELINE\\.env\\Lib\\site-packages\\tqdm\\auto.py:21: TqdmWarning: IProgress not found. Please update jupyter and ipywidgets. See https://ipywidgets.readthedocs.io/en/stable/user_install.html\n",
      "  from .autonotebook import tqdm as notebook_tqdm\n"
     ]
    }
   ],
   "source": [
    "from docx import Document\n",
    "import re\n",
    "import unicodedata\n",
    "import tiktoken\n",
    "from qdrant_client import QdrantClient\n",
    "from qdrant_client.models import PointStruct, Distance, VectorParams\n",
    "from sentence_transformers import SentenceTransformer"
   ]
  },
  {
   "cell_type": "code",
   "execution_count": 19,
   "id": "c039912c-4d44-4919-8dce-8498d34b5a2a",
   "metadata": {},
   "outputs": [],
   "source": [
    "def extract_data(doc_path):\n",
    "    doc = Document(doc_path)\n",
    "    current_headings = []  \n",
    "    results = []\n",
    "    for para in doc.paragraphs:\n",
    "        style_name = para.style.name\n",
    "        if style_name.startswith('Heading 1'):\n",
    "            current_headings = [para.text.strip()]\n",
    "        elif style_name.startswith('Heading 2'):\n",
    "            if len(current_headings) >= 1:\n",
    "                if len(current_headings) == 1:\n",
    "                    current_headings.append(para.text.strip())\n",
    "                else:\n",
    "                    current_headings[1] = para.text.strip()\n",
    "            else:\n",
    "                current_headings = [None, para.text.strip()]\n",
    "        else:\n",
    "            if para.text.strip():\n",
    "                if len(current_headings)>1:\n",
    "                    metadata = {\n",
    "                        \"heading 1\":  current_headings[0],\n",
    "                        \"heading 2\": current_headings[1]\n",
    "                    }\n",
    "                else:\n",
    "                    metadata = {\n",
    "                        \"heading 1\":  current_headings[0],\n",
    "                        \"heading 2\": None\n",
    "                    }\n",
    "                results.append({\n",
    "                    \"text\": para.text.strip(),\n",
    "                    \"metadata\": metadata\n",
    "                })\n",
    "    return results\n"
   ]
  },
  {
   "cell_type": "code",
   "execution_count": 20,
   "id": "91441b82-17d4-4006-bc82-d0362e9cb217",
   "metadata": {},
   "outputs": [],
   "source": [
    "file_path=\"dataset.docx\""
   ]
  },
  {
   "cell_type": "code",
   "execution_count": 21,
   "id": "e0b0b0d9-9c83-4979-ba2d-c5effd1e4913",
   "metadata": {},
   "outputs": [],
   "source": [
    "sections = extract_data(file_path)"
   ]
  },
  {
   "cell_type": "markdown",
   "id": "dd5e1021-7673-40af-a025-ee9bb41ef8e0",
   "metadata": {},
   "source": [
    "## preprocessing"
   ]
  },
  {
   "cell_type": "markdown",
   "id": "fecad398-60db-4134-bd21-c5e46de9dde0",
   "metadata": {},
   "source": [
    "### 1. normalization"
   ]
  },
  {
   "cell_type": "code",
   "execution_count": 22,
   "id": "1b133b4c-b2a1-4631-977c-edee3920d175",
   "metadata": {},
   "outputs": [],
   "source": [
    "def normalize_text(text):\n",
    "    text = re.sub(r'\\s+', ' ', text)\n",
    "    text = unicodedata.normalize(\"NFKC\", text)\n",
    "    text = ''.join(c for c in text if c.isprintable())\n",
    "    return text.strip()"
   ]
  },
  {
   "cell_type": "markdown",
   "id": "f8c579ea-085c-4c4a-b2d6-fa70ab44d7ad",
   "metadata": {},
   "source": [
    "### 2. clean punctuation"
   ]
  },
  {
   "cell_type": "code",
   "execution_count": 23,
   "id": "493a0b1b-3442-487d-a928-784b573563b1",
   "metadata": {},
   "outputs": [],
   "source": [
    "def clean_punctuation(text):\n",
    "    text = re.sub(r'[“”«»]', '\"', text)\n",
    "    text = re.sub(r\"[’‘]\", \"'\", text)\n",
    "    text = re.sub(r\"[–—]\", \"-\", text)\n",
    "    return text\n"
   ]
  },
  {
   "cell_type": "markdown",
   "id": "16a1027b-09b6-434b-9894-67d04dcb3c53",
   "metadata": {},
   "source": [
    "### 3. strip noise"
   ]
  },
  {
   "cell_type": "code",
   "execution_count": 24,
   "id": "324f449a-d1f1-480a-a26e-85779ddc383d",
   "metadata": {},
   "outputs": [],
   "source": [
    "def remove_noise(text):\n",
    "    text = re.sub(r\"http\\S+|www\\S+|https\\S+\", '', text)\n",
    "    text = re.sub(r'\\S+@\\S+', '', text)\n",
    "    text = re.sub(r'\\d{5,}', '', text)\n",
    "    return text\n"
   ]
  },
  {
   "cell_type": "markdown",
   "id": "7532523f-4833-4bcf-bf0f-7d45afd85548",
   "metadata": {},
   "source": [
    "### 4. paraghraphs"
   ]
  },
  {
   "cell_type": "code",
   "execution_count": 25,
   "id": "7d072955-e5c4-4b11-acf0-fa8efebbea88",
   "metadata": {},
   "outputs": [],
   "source": [
    "def split_paragraphs(text):\n",
    "    return [para.strip() for para in text.split('\\n') if para.strip()]"
   ]
  },
  {
   "cell_type": "code",
   "execution_count": 26,
   "id": "1125ecf2-d9cc-4bb7-90ca-ab56e41eee1b",
   "metadata": {},
   "outputs": [],
   "source": [
    "def preprocess_data(raw_text):\n",
    "    text = normalize_text(raw_text)\n",
    "    text = clean_punctuation(text)\n",
    "    paragraphs = split_paragraphs(text)\n",
    "    return paragraphs\n"
   ]
  },
  {
   "cell_type": "code",
   "execution_count": 27,
   "id": "3e419f32-fd9e-4d94-b10d-eac6ab0ce3b3",
   "metadata": {},
   "outputs": [],
   "source": [
    "for sec in sections:\n",
    "    sec['text']=preprocess_data(sec['text'])"
   ]
  },
  {
   "cell_type": "markdown",
   "id": "33213279-b40b-41ee-bee8-2f1eeff85b64",
   "metadata": {},
   "source": [
    "## tokenizer and Chunk"
   ]
  },
  {
   "cell_type": "code",
   "execution_count": 28,
   "id": "a8144fef-c3e2-4f09-b16c-6d9df8cc7cf5",
   "metadata": {},
   "outputs": [],
   "source": [
    "def tokenize_chunk(text, metadata, tokenizer_name=\"gpt2\", chunk_size=300, overlap=0.15):\n",
    "    enc = tiktoken.get_encoding(tokenizer_name)\n",
    "    tokens = enc.encode(text[0])\n",
    "\n",
    "    step = int(chunk_size * (1 - overlap))\n",
    "    dataset = []\n",
    "\n",
    "    for start in range(0, len(tokens), step):\n",
    "        end = start + chunk_size\n",
    "        chunk_tokens = tokens[start:end]\n",
    "        chunk_text = enc.decode(chunk_tokens)\n",
    "        \n",
    "        chunk_entry = {\n",
    "            \"text\": chunk_text,\n",
    "            \"metadata\": metadata.copy()\n",
    "        }\n",
    "        dataset.append(chunk_entry)\n",
    "\n",
    "        if end >= len(tokens):\n",
    "            break\n",
    "\n",
    "    return dataset\n"
   ]
  },
  {
   "cell_type": "code",
   "execution_count": 29,
   "id": "c11c8805-3603-44b5-bca3-eecce2eb85d4",
   "metadata": {},
   "outputs": [],
   "source": [
    "dataset=[]"
   ]
  },
  {
   "cell_type": "code",
   "execution_count": 30,
   "id": "7ff3bc23-2860-4ae5-a9a9-5e7c83d1d459",
   "metadata": {},
   "outputs": [],
   "source": [
    "for section in sections:\n",
    "    dataset.append(tokenize_chunk(section['text'],section['metadata']))"
   ]
  },
  {
   "cell_type": "code",
   "execution_count": 52,
   "id": "e613a188-d85c-4ad6-b223-a25530e5a505",
   "metadata": {},
   "outputs": [],
   "source": [
    "dataset_new=[]"
   ]
  },
  {
   "cell_type": "code",
   "execution_count": 53,
   "id": "78c431b7-5c34-4831-a16e-0def74056499",
   "metadata": {},
   "outputs": [],
   "source": [
    "for i in dataset:\n",
    "    dataset_new.append(i[0])"
   ]
  },
  {
   "cell_type": "code",
   "execution_count": 55,
   "id": "ccf72d6e-8570-4e47-936f-bcc312109c01",
   "metadata": {},
   "outputs": [
    {
     "data": {
      "text/plain": [
       "13"
      ]
     },
     "execution_count": 55,
     "metadata": {},
     "output_type": "execute_result"
    }
   ],
   "source": [
    "len(dataset_new)"
   ]
  },
  {
   "cell_type": "code",
   "execution_count": 35,
   "id": "39d0ce81-c853-482d-96d9-7b29f1105c06",
   "metadata": {},
   "outputs": [],
   "source": [
    "def upload_chunks_to_qdrant(\n",
    "    dataset,  # list of {'text': ..., 'metadata': {...}}\n",
    "    collection_name=\"French_population_structure\",\n",
    "    qdrant_url=\"http://localhost\",\n",
    "    qdrant_port=8080\n",
    "):\n",
    "    model = SentenceTransformer('sentence-transformers/all-MiniLM-L6-v2')\n",
    "    client = QdrantClient(url=qdrant_url, port=qdrant_port)\n",
    "    client.recreate_collection(\n",
    "        collection_name=collection_name,\n",
    "        vectors_config=VectorParams(\n",
    "            size=model.get_sentence_embedding_dimension(),\n",
    "            distance=Distance.COSINE\n",
    "        )\n",
    "    )\n",
    "\n",
    "    # تولید امبدینگ و آماده‌سازی نقاط\n",
    "    points = []\n",
    "    for i, item in enumerate(dataset):\n",
    "        vector = model.encode(item[\"text\"]).tolist()\n",
    "        payload = item[\"metadata\"]\n",
    "        points.append(PointStruct(id=i, vector=vector, payload=payload))\n",
    "\n",
    "    # آپلود در Qdrant\n",
    "    client.upsert(\n",
    "        collection_name=collection_name,\n",
    "        points=points\n",
    "    )\n",
    "\n",
    "    print(f\"{len(points)} documents uploaded to collection '{collection_name}'.\")"
   ]
  },
  {
   "cell_type": "code",
   "execution_count": 56,
   "id": "0a7a20cc-1524-4bb3-985e-1a0c5ab55e00",
   "metadata": {},
   "outputs": [
    {
     "name": "stderr",
     "output_type": "stream",
     "text": [
      "C:\\Users\\mahboub\\AppData\\Local\\Temp\\ipykernel_10284\\2037987665.py:9: DeprecationWarning: `recreate_collection` method is deprecated and will be removed in the future. Use `collection_exists` to check collection existence and `create_collection` instead.\n",
      "  client.recreate_collection(\n"
     ]
    },
    {
     "name": "stdout",
     "output_type": "stream",
     "text": [
      "13 documents uploaded to collection 'French_population_structure'.\n"
     ]
    }
   ],
   "source": [
    "upload_chunks_to_qdrant(dataset_new)"
   ]
  },
  {
   "cell_type": "code",
   "execution_count": null,
   "id": "3406674b-0289-4a4e-b8ba-522f5a1aeefe",
   "metadata": {},
   "outputs": [],
   "source": []
  }
 ],
 "metadata": {
  "kernelspec": {
   "display_name": "Python (.env - RAG)",
   "language": "python",
   "name": "rag-env"
  },
  "language_info": {
   "codemirror_mode": {
    "name": "ipython",
    "version": 3
   },
   "file_extension": ".py",
   "mimetype": "text/x-python",
   "name": "python",
   "nbconvert_exporter": "python",
   "pygments_lexer": "ipython3",
   "version": "3.12.0"
  }
 },
 "nbformat": 4,
 "nbformat_minor": 5
}
